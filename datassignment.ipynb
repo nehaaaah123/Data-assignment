{
  "cells": [
    {
      "cell_type": "code",
      "execution_count": null,
      "metadata": {
        "id": "kVgyJTvX9Q6K"
      },
      "outputs": [],
      "source": [
        "pip install requests pandas boto3 snowflake-connector-python\n"
      ]
    },
    {
      "cell_type": "code",
      "execution_count": null,
      "metadata": {
        "id": "L0NjV4Dm9Stv"
      },
      "outputs": [],
      "source": [
        "# extract_data.py\n",
        "import requests\n",
        "import pandas as pd\n",
        " \n",
        "def extract_data():\n",
        "    url = \"https://dummyjson.com/products\"\n",
        "    response = requests.get(url)\n",
        "    data = response.json()\n",
        " \n",
        "    # Normalize nested 'products' list\n",
        "    products = data.get(\"products\", [])\n",
        "    df = pd.json_normalize(products)\n",
        " \n",
        "    # Save to CSV\n",
        "    df.to_csv(\"products.csv\", index=False)\n",
        "    print(\"✅ Data extracted and saved as products.csv\")\n",
        " \n",
        "if __name__ == \"__main__\":\n",
        "    extract_data()\n"
      ]
    },
    {
      "cell_type": "code",
      "execution_count": null,
      "metadata": {
        "id": "QiZnCRta9UMr"
      },
      "outputs": [],
      "source": [
        "# upload_to_s3.py\n",
        "import boto3\n",
        "import os\n",
        "from botocore.exceptions import NoCredentialsError, ClientError\n",
        " \n",
        "# Set AWS credentials directly in code (for Colab only — not recommended for production)\n",
        "os.environ['AWS_ACCESS_KEY_ID'] = 'AKIAVFSGHNMMUKJT'\n",
        "os.environ['AWS_SECRET_ACCESS_KEY'] = 'yE1S9PJqisBFgfnc77LT8GwI1sfSWPG'\n",
        " \n",
        "def upload_to_s3(file_name, bucket_name, object_name=None):\n",
        "    try:\n",
        "        s3 = boto3.client('s3')\n",
        " \n",
        "        if object_name is None:\n",
        "            object_name = file_name\n",
        " \n",
        "        # Optional: Check if bucket exists\n",
        "        try:\n",
        "            s3.head_bucket(Bucket=bucket_name)\n",
        "        except ClientError as e:\n",
        "            print(f\"❌ Bucket '{bucket_name}' not found or inaccessible: {e}\")\n",
        "            return\n",
        " \n",
        "        # Upload file\n",
        "        s3.upload_file(file_name, bucket_name, object_name)\n",
        "        print(f\"✅ '{file_name}' uploaded to S3 bucket '{bucket_name}' as '{object_name}'\")\n",
        " \n",
        "    except FileNotFoundError:\n",
        "        print(f\"❌ File '{file_name}' not found.\")\n",
        "    except NoCredentialsError:\n",
        "        print(\"❌ AWS credentials not found. Check your environment variables.\")\n",
        "    except Exception as e:\n",
        "        print(f\"❌ Upload failed: {e}\")\n",
        " \n",
        "if __name__ == \"__main__\":\n",
        "    upload_to_s3(\"products.csv\", \"ndataassignment\")"
      ]
    },
    {
      "cell_type": "code",
      "execution_count": null,
      "metadata": {
        "id": "4eHrOyk09VcV"
      },
      "outputs": [],
      "source": [
        "# load_to_snowflake.py\n",
        "import snowflake.connector\n",
        "import pandas as pd\n",
        " \n",
        "def load_to_snowflake():\n",
        "    # Load CSV\n",
        "    df = pd.read_csv(\"products.csv\")\n",
        " \n",
        "    # Ensure required columns exist\n",
        "    expected_cols = ['id', 'title', 'price', 'description', 'category', 'thumbnail']\n",
        "    missing = [col for col in expected_cols if col not in df.columns]\n",
        "    if missing:\n",
        "        raise ValueError(f\"Missing expected columns in CSV: {missing}\")\n",
        " \n",
        "    # Connect to Snowflake\n",
        "    conn = snowflake.connector.connect(\n",
        "        user='nehaa067',\n",
        "        password='**********@',\n",
        "        account='gnhgh-hjng38'\n",
        "    )\n",
        "    cur = conn.cursor()\n",
        " \n",
        "    # Create database and schema\n",
        "    cur.execute(\"CREATE DATABASE IF NOT EXISTS DATA_PIPELINE_DB;\")\n",
        "    cur.execute(\"USE DATABASE DATA_PIPELINE_DB;\")\n",
        "    cur.execute(\"CREATE SCHEMA IF NOT EXISTS RAW_SCHEMA;\")\n",
        " \n",
        "    # Create raw table\n",
        "    cur.execute(\"\"\"\n",
        "    CREATE OR REPLACE TABLE RAW_SCHEMA.PRODUCTS_RAW (\n",
        "        id INT,\n",
        "        title STRING,\n",
        "        price FLOAT,\n",
        "        description STRING,\n",
        "        category STRING,\n",
        "        thumbnail STRING\n",
        "    );\n",
        "    \"\"\")\n",
        " \n",
        "    # Insert data\n",
        "    for _, row in df.iterrows():\n",
        "        cur.execute(\"\"\"\n",
        "            INSERT INTO RAW_SCHEMA.PRODUCTS_RAW (id, title, price, description, category, thumbnail)\n",
        "            VALUES (%s, %s, %s, %s, %s, %s)\n",
        "        \"\"\", (int(row['id']), row['title'], float(row['price']), row['description'], row['category'], row['thumbnail']))\n",
        " \n",
        "    print(\"✅ Raw data loaded into Snowflake\")\n",
        " \n",
        "    # Create transformed view\n",
        "    cur.execute(\"\"\"\n",
        "    CREATE OR REPLACE VIEW RAW_SCHEMA.PRODUCTS_TRANSFORMED AS\n",
        "    SELECT\n",
        "        category,\n",
        "        COUNT(*) AS product_count,\n",
        "        AVG(price) AS avg_price\n",
        "    FROM RAW_SCHEMA.PRODUCTS_RAW\n",
        "    GROUP BY category;\n",
        "    \"\"\")\n",
        " \n",
        "    print(\"✅ Created transformed view in Snowflake\")\n",
        " \n",
        "    cur.close()\n",
        "    conn.close()\n",
        " \n",
        "if __name__ == \"__main__\":\n",
        "    load_to_snowflake()"
      ]
    }
  ],
  "metadata": {
    "colab": {
      "provenance": []
    },
    "kernelspec": {
      "display_name": "Python 3",
      "name": "python3"
    },
    "language_info": {
      "name": "python"
    }
  },
  "nbformat": 4,
  "nbformat_minor": 0
}
